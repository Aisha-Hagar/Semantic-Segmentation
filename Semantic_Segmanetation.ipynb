{
  "nbformat": 4,
  "nbformat_minor": 0,
  "metadata": {
    "colab": {
      "provenance": [],
      "gpuType": "T4",
      "authorship_tag": "ABX9TyMcA/lKIpLZSYXdldWGoNbZ",
      "include_colab_link": true
    },
    "kernelspec": {
      "name": "python3",
      "display_name": "Python 3"
    },
    "language_info": {
      "name": "python"
    },
    "accelerator": "GPU"
  },
  "cells": [
    {
      "cell_type": "markdown",
      "metadata": {
        "id": "view-in-github",
        "colab_type": "text"
      },
      "source": [
        "<a href=\"https://colab.research.google.com/github/Aisha-Hagar/Semantic-Segmentation/blob/main/Semantic_Segmanetation.ipynb\" target=\"_parent\"><img src=\"https://colab.research.google.com/assets/colab-badge.svg\" alt=\"Open In Colab\"/></a>"
      ]
    },
    {
      "cell_type": "code",
      "execution_count": 1,
      "metadata": {
        "id": "X9UA2gk1UgDO"
      },
      "outputs": [],
      "source": [
        "import os\n",
        "import random\n",
        "from shutil import copy\n",
        "import tensorflow as tf\n",
        "from tensorflow import image as tf_image\n",
        "from tensorflow import keras\n",
        "from tensorflow.keras import layers\n",
        "from tensorflow.keras.utils import load_img, img_to_array\n",
        "from tensorflow.keras.optimizers import RMSprop, schedules, Adam\n",
        "import matplotlib.pyplot as plt\n",
        "import numpy as np"
      ]
    },
    {
      "cell_type": "code",
      "source": [
        "random.seed(765)\n",
        "tf.random.set_seed(432)"
      ],
      "metadata": {
        "id": "d48iPY0rUove"
      },
      "execution_count": 2,
      "outputs": []
    },
    {
      "cell_type": "code",
      "source": [
        "from google.colab import files\n",
        "files.upload()\n",
        "\n",
        "!rm -r ~/.kaggle\n",
        "!mkdir ~/.kaggle\n",
        "!mv ./kaggle.json ~/.kaggle/\n",
        "!chmod 600 ~/.kaggle/kaggle.json\n",
        "\n",
        "!kaggle datasets download -d mohammednomer/semantic-segmentation"
      ],
      "metadata": {
        "colab": {
          "base_uri": "https://localhost:8080/",
          "height": 143
        },
        "id": "qc14ipNSUvZn",
        "outputId": "ce0e0cf5-e5eb-422f-ab39-c947d13c52a1"
      },
      "execution_count": 3,
      "outputs": [
        {
          "output_type": "display_data",
          "data": {
            "text/plain": [
              "<IPython.core.display.HTML object>"
            ],
            "text/html": [
              "\n",
              "     <input type=\"file\" id=\"files-2ffcc113-9790-41bd-b8f9-9e769f4c062c\" name=\"files[]\" multiple disabled\n",
              "        style=\"border:none\" />\n",
              "     <output id=\"result-2ffcc113-9790-41bd-b8f9-9e769f4c062c\">\n",
              "      Upload widget is only available when the cell has been executed in the\n",
              "      current browser session. Please rerun this cell to enable.\n",
              "      </output>\n",
              "      <script>// Copyright 2017 Google LLC\n",
              "//\n",
              "// Licensed under the Apache License, Version 2.0 (the \"License\");\n",
              "// you may not use this file except in compliance with the License.\n",
              "// You may obtain a copy of the License at\n",
              "//\n",
              "//      http://www.apache.org/licenses/LICENSE-2.0\n",
              "//\n",
              "// Unless required by applicable law or agreed to in writing, software\n",
              "// distributed under the License is distributed on an \"AS IS\" BASIS,\n",
              "// WITHOUT WARRANTIES OR CONDITIONS OF ANY KIND, either express or implied.\n",
              "// See the License for the specific language governing permissions and\n",
              "// limitations under the License.\n",
              "\n",
              "/**\n",
              " * @fileoverview Helpers for google.colab Python module.\n",
              " */\n",
              "(function(scope) {\n",
              "function span(text, styleAttributes = {}) {\n",
              "  const element = document.createElement('span');\n",
              "  element.textContent = text;\n",
              "  for (const key of Object.keys(styleAttributes)) {\n",
              "    element.style[key] = styleAttributes[key];\n",
              "  }\n",
              "  return element;\n",
              "}\n",
              "\n",
              "// Max number of bytes which will be uploaded at a time.\n",
              "const MAX_PAYLOAD_SIZE = 100 * 1024;\n",
              "\n",
              "function _uploadFiles(inputId, outputId) {\n",
              "  const steps = uploadFilesStep(inputId, outputId);\n",
              "  const outputElement = document.getElementById(outputId);\n",
              "  // Cache steps on the outputElement to make it available for the next call\n",
              "  // to uploadFilesContinue from Python.\n",
              "  outputElement.steps = steps;\n",
              "\n",
              "  return _uploadFilesContinue(outputId);\n",
              "}\n",
              "\n",
              "// This is roughly an async generator (not supported in the browser yet),\n",
              "// where there are multiple asynchronous steps and the Python side is going\n",
              "// to poll for completion of each step.\n",
              "// This uses a Promise to block the python side on completion of each step,\n",
              "// then passes the result of the previous step as the input to the next step.\n",
              "function _uploadFilesContinue(outputId) {\n",
              "  const outputElement = document.getElementById(outputId);\n",
              "  const steps = outputElement.steps;\n",
              "\n",
              "  const next = steps.next(outputElement.lastPromiseValue);\n",
              "  return Promise.resolve(next.value.promise).then((value) => {\n",
              "    // Cache the last promise value to make it available to the next\n",
              "    // step of the generator.\n",
              "    outputElement.lastPromiseValue = value;\n",
              "    return next.value.response;\n",
              "  });\n",
              "}\n",
              "\n",
              "/**\n",
              " * Generator function which is called between each async step of the upload\n",
              " * process.\n",
              " * @param {string} inputId Element ID of the input file picker element.\n",
              " * @param {string} outputId Element ID of the output display.\n",
              " * @return {!Iterable<!Object>} Iterable of next steps.\n",
              " */\n",
              "function* uploadFilesStep(inputId, outputId) {\n",
              "  const inputElement = document.getElementById(inputId);\n",
              "  inputElement.disabled = false;\n",
              "\n",
              "  const outputElement = document.getElementById(outputId);\n",
              "  outputElement.innerHTML = '';\n",
              "\n",
              "  const pickedPromise = new Promise((resolve) => {\n",
              "    inputElement.addEventListener('change', (e) => {\n",
              "      resolve(e.target.files);\n",
              "    });\n",
              "  });\n",
              "\n",
              "  const cancel = document.createElement('button');\n",
              "  inputElement.parentElement.appendChild(cancel);\n",
              "  cancel.textContent = 'Cancel upload';\n",
              "  const cancelPromise = new Promise((resolve) => {\n",
              "    cancel.onclick = () => {\n",
              "      resolve(null);\n",
              "    };\n",
              "  });\n",
              "\n",
              "  // Wait for the user to pick the files.\n",
              "  const files = yield {\n",
              "    promise: Promise.race([pickedPromise, cancelPromise]),\n",
              "    response: {\n",
              "      action: 'starting',\n",
              "    }\n",
              "  };\n",
              "\n",
              "  cancel.remove();\n",
              "\n",
              "  // Disable the input element since further picks are not allowed.\n",
              "  inputElement.disabled = true;\n",
              "\n",
              "  if (!files) {\n",
              "    return {\n",
              "      response: {\n",
              "        action: 'complete',\n",
              "      }\n",
              "    };\n",
              "  }\n",
              "\n",
              "  for (const file of files) {\n",
              "    const li = document.createElement('li');\n",
              "    li.append(span(file.name, {fontWeight: 'bold'}));\n",
              "    li.append(span(\n",
              "        `(${file.type || 'n/a'}) - ${file.size} bytes, ` +\n",
              "        `last modified: ${\n",
              "            file.lastModifiedDate ? file.lastModifiedDate.toLocaleDateString() :\n",
              "                                    'n/a'} - `));\n",
              "    const percent = span('0% done');\n",
              "    li.appendChild(percent);\n",
              "\n",
              "    outputElement.appendChild(li);\n",
              "\n",
              "    const fileDataPromise = new Promise((resolve) => {\n",
              "      const reader = new FileReader();\n",
              "      reader.onload = (e) => {\n",
              "        resolve(e.target.result);\n",
              "      };\n",
              "      reader.readAsArrayBuffer(file);\n",
              "    });\n",
              "    // Wait for the data to be ready.\n",
              "    let fileData = yield {\n",
              "      promise: fileDataPromise,\n",
              "      response: {\n",
              "        action: 'continue',\n",
              "      }\n",
              "    };\n",
              "\n",
              "    // Use a chunked sending to avoid message size limits. See b/62115660.\n",
              "    let position = 0;\n",
              "    do {\n",
              "      const length = Math.min(fileData.byteLength - position, MAX_PAYLOAD_SIZE);\n",
              "      const chunk = new Uint8Array(fileData, position, length);\n",
              "      position += length;\n",
              "\n",
              "      const base64 = btoa(String.fromCharCode.apply(null, chunk));\n",
              "      yield {\n",
              "        response: {\n",
              "          action: 'append',\n",
              "          file: file.name,\n",
              "          data: base64,\n",
              "        },\n",
              "      };\n",
              "\n",
              "      let percentDone = fileData.byteLength === 0 ?\n",
              "          100 :\n",
              "          Math.round((position / fileData.byteLength) * 100);\n",
              "      percent.textContent = `${percentDone}% done`;\n",
              "\n",
              "    } while (position < fileData.byteLength);\n",
              "  }\n",
              "\n",
              "  // All done.\n",
              "  yield {\n",
              "    response: {\n",
              "      action: 'complete',\n",
              "    }\n",
              "  };\n",
              "}\n",
              "\n",
              "scope.google = scope.google || {};\n",
              "scope.google.colab = scope.google.colab || {};\n",
              "scope.google.colab._files = {\n",
              "  _uploadFiles,\n",
              "  _uploadFilesContinue,\n",
              "};\n",
              "})(self);\n",
              "</script> "
            ]
          },
          "metadata": {}
        },
        {
          "output_type": "stream",
          "name": "stdout",
          "text": [
            "Saving kaggle.json to kaggle.json\n",
            "rm: cannot remove '/root/.kaggle': No such file or directory\n",
            "Downloading semantic-segmentation.zip to /content\n",
            "100% 68.7M/68.7M [00:00<00:00, 103MB/s]\n",
            "100% 68.7M/68.7M [00:00<00:00, 108MB/s]\n"
          ]
        }
      ]
    },
    {
      "cell_type": "code",
      "source": [
        "! mkdir data\n",
        "! unzip semantic-segmentation.zip -d data"
      ],
      "metadata": {
        "colab": {
          "base_uri": "https://localhost:8080/"
        },
        "id": "cshLumTmU8s3",
        "outputId": "6d91b65a-c0c6-4507-8c9f-2e03140a6f29"
      },
      "execution_count": 4,
      "outputs": [
        {
          "output_type": "stream",
          "name": "stdout",
          "text": [
            "Archive:  semantic-segmentation.zip\n",
            "  inflating: data/About Acme AI.txt  \n",
            "  inflating: data/COCO_Football Pixel.json  \n",
            "  inflating: data/Frame 1  (1).jpg   \n",
            "  inflating: data/Frame 1  (1).jpg___fuse.png  \n",
            "  inflating: data/Frame 1  (1).jpg___save.png  \n",
            "  inflating: data/Frame 1  (10).jpg  \n",
            "  inflating: data/Frame 1  (10).jpg___fuse.png  \n",
            "  inflating: data/Frame 1  (10).jpg___save.png  \n",
            "  inflating: data/Frame 1  (100).jpg  \n",
            "  inflating: data/Frame 1  (100).jpg___fuse.png  \n",
            "  inflating: data/Frame 1  (100).jpg___save.png  \n",
            "  inflating: data/Frame 1  (11).jpg  \n",
            "  inflating: data/Frame 1  (11).jpg___fuse.png  \n",
            "  inflating: data/Frame 1  (11).jpg___save.png  \n",
            "  inflating: data/Frame 1  (12).jpg  \n",
            "  inflating: data/Frame 1  (12).jpg___fuse.png  \n",
            "  inflating: data/Frame 1  (12).jpg___save.png  \n",
            "  inflating: data/Frame 1  (13).jpg  \n",
            "  inflating: data/Frame 1  (13).jpg___fuse.png  \n",
            "  inflating: data/Frame 1  (13).jpg___save.png  \n",
            "  inflating: data/Frame 1  (14).jpg  \n",
            "  inflating: data/Frame 1  (14).jpg___fuse.png  \n",
            "  inflating: data/Frame 1  (14).jpg___save.png  \n",
            "  inflating: data/Frame 1  (15).jpg  \n",
            "  inflating: data/Frame 1  (15).jpg___fuse.png  \n",
            "  inflating: data/Frame 1  (15).jpg___save.png  \n",
            "  inflating: data/Frame 1  (16).jpg  \n",
            "  inflating: data/Frame 1  (16).jpg___fuse.png  \n",
            "  inflating: data/Frame 1  (16).jpg___save.png  \n",
            "  inflating: data/Frame 1  (17).jpg  \n",
            "  inflating: data/Frame 1  (17).jpg___fuse.png  \n",
            "  inflating: data/Frame 1  (17).jpg___save.png  \n",
            "  inflating: data/Frame 1  (18).jpg  \n",
            "  inflating: data/Frame 1  (18).jpg___fuse.png  \n",
            "  inflating: data/Frame 1  (18).jpg___save.png  \n",
            "  inflating: data/Frame 1  (19).jpg  \n",
            "  inflating: data/Frame 1  (19).jpg___fuse.png  \n",
            "  inflating: data/Frame 1  (19).jpg___save.png  \n",
            "  inflating: data/Frame 1  (2).jpg   \n",
            "  inflating: data/Frame 1  (2).jpg___fuse.png  \n",
            "  inflating: data/Frame 1  (2).jpg___save.png  \n",
            "  inflating: data/Frame 1  (20).jpg  \n",
            "  inflating: data/Frame 1  (20).jpg___fuse.png  \n",
            "  inflating: data/Frame 1  (20).jpg___save.png  \n",
            "  inflating: data/Frame 1  (21).jpg  \n",
            "  inflating: data/Frame 1  (21).jpg___fuse.png  \n",
            "  inflating: data/Frame 1  (21).jpg___save.png  \n",
            "  inflating: data/Frame 1  (22).jpg  \n",
            "  inflating: data/Frame 1  (22).jpg___fuse.png  \n",
            "  inflating: data/Frame 1  (22).jpg___save.png  \n",
            "  inflating: data/Frame 1  (23).jpg  \n",
            "  inflating: data/Frame 1  (23).jpg___fuse.png  \n",
            "  inflating: data/Frame 1  (23).jpg___save.png  \n",
            "  inflating: data/Frame 1  (24).jpg  \n",
            "  inflating: data/Frame 1  (24).jpg___fuse.png  \n",
            "  inflating: data/Frame 1  (24).jpg___save.png  \n",
            "  inflating: data/Frame 1  (25).jpg  \n",
            "  inflating: data/Frame 1  (25).jpg___fuse.png  \n",
            "  inflating: data/Frame 1  (25).jpg___save.png  \n",
            "  inflating: data/Frame 1  (26).jpg  \n",
            "  inflating: data/Frame 1  (26).jpg___fuse.png  \n",
            "  inflating: data/Frame 1  (26).jpg___save.png  \n",
            "  inflating: data/Frame 1  (27).jpg  \n",
            "  inflating: data/Frame 1  (27).jpg___fuse.png  \n",
            "  inflating: data/Frame 1  (27).jpg___save.png  \n",
            "  inflating: data/Frame 1  (28).jpg  \n",
            "  inflating: data/Frame 1  (28).jpg___fuse.png  \n",
            "  inflating: data/Frame 1  (28).jpg___save.png  \n",
            "  inflating: data/Frame 1  (29).jpg  \n",
            "  inflating: data/Frame 1  (29).jpg___fuse.png  \n",
            "  inflating: data/Frame 1  (29).jpg___save.png  \n",
            "  inflating: data/Frame 1  (3).jpg   \n",
            "  inflating: data/Frame 1  (3).jpg___fuse.png  \n",
            "  inflating: data/Frame 1  (3).jpg___save.png  \n",
            "  inflating: data/Frame 1  (30).jpg  \n",
            "  inflating: data/Frame 1  (30).jpg___fuse.png  \n",
            "  inflating: data/Frame 1  (30).jpg___save.png  \n",
            "  inflating: data/Frame 1  (31).jpg  \n",
            "  inflating: data/Frame 1  (31).jpg___fuse.png  \n",
            "  inflating: data/Frame 1  (31).jpg___save.png  \n",
            "  inflating: data/Frame 1  (32).jpg  \n",
            "  inflating: data/Frame 1  (32).jpg___fuse.png  \n",
            "  inflating: data/Frame 1  (32).jpg___save.png  \n",
            "  inflating: data/Frame 1  (33).jpg  \n",
            "  inflating: data/Frame 1  (33).jpg___fuse.png  \n",
            "  inflating: data/Frame 1  (33).jpg___save.png  \n",
            "  inflating: data/Frame 1  (34).jpg  \n",
            "  inflating: data/Frame 1  (34).jpg___fuse.png  \n",
            "  inflating: data/Frame 1  (34).jpg___save.png  \n",
            "  inflating: data/Frame 1  (35).jpg  \n",
            "  inflating: data/Frame 1  (35).jpg___fuse.png  \n",
            "  inflating: data/Frame 1  (35).jpg___save.png  \n",
            "  inflating: data/Frame 1  (36).jpg  \n",
            "  inflating: data/Frame 1  (36).jpg___fuse.png  \n",
            "  inflating: data/Frame 1  (36).jpg___save.png  \n",
            "  inflating: data/Frame 1  (37).jpg  \n",
            "  inflating: data/Frame 1  (37).jpg___fuse.png  \n",
            "  inflating: data/Frame 1  (37).jpg___save.png  \n",
            "  inflating: data/Frame 1  (38).jpg  \n",
            "  inflating: data/Frame 1  (38).jpg___fuse.png  \n",
            "  inflating: data/Frame 1  (38).jpg___save.png  \n",
            "  inflating: data/Frame 1  (39).jpg  \n",
            "  inflating: data/Frame 1  (39).jpg___fuse.png  \n",
            "  inflating: data/Frame 1  (39).jpg___save.png  \n",
            "  inflating: data/Frame 1  (4).jpg   \n",
            "  inflating: data/Frame 1  (4).jpg___fuse.png  \n",
            "  inflating: data/Frame 1  (4).jpg___save.png  \n",
            "  inflating: data/Frame 1  (40).jpg  \n",
            "  inflating: data/Frame 1  (40).jpg___fuse.png  \n",
            "  inflating: data/Frame 1  (40).jpg___save.png  \n",
            "  inflating: data/Frame 1  (41).jpg  \n",
            "  inflating: data/Frame 1  (41).jpg___fuse.png  \n",
            "  inflating: data/Frame 1  (41).jpg___save.png  \n",
            "  inflating: data/Frame 1  (42).jpg  \n",
            "  inflating: data/Frame 1  (42).jpg___fuse.png  \n",
            "  inflating: data/Frame 1  (42).jpg___save.png  \n",
            "  inflating: data/Frame 1  (43).jpg  \n",
            "  inflating: data/Frame 1  (43).jpg___fuse.png  \n",
            "  inflating: data/Frame 1  (43).jpg___save.png  \n",
            "  inflating: data/Frame 1  (44).jpg  \n",
            "  inflating: data/Frame 1  (44).jpg___fuse.png  \n",
            "  inflating: data/Frame 1  (44).jpg___save.png  \n",
            "  inflating: data/Frame 1  (45).jpg  \n",
            "  inflating: data/Frame 1  (45).jpg___fuse.png  \n",
            "  inflating: data/Frame 1  (45).jpg___save.png  \n",
            "  inflating: data/Frame 1  (46).jpg  \n",
            "  inflating: data/Frame 1  (46).jpg___fuse.png  \n",
            "  inflating: data/Frame 1  (46).jpg___save.png  \n",
            "  inflating: data/Frame 1  (47).jpg  \n",
            "  inflating: data/Frame 1  (47).jpg___fuse.png  \n",
            "  inflating: data/Frame 1  (47).jpg___save.png  \n",
            "  inflating: data/Frame 1  (48).jpg  \n",
            "  inflating: data/Frame 1  (48).jpg___fuse.png  \n",
            "  inflating: data/Frame 1  (48).jpg___save.png  \n",
            "  inflating: data/Frame 1  (49).jpg  \n",
            "  inflating: data/Frame 1  (49).jpg___fuse.png  \n",
            "  inflating: data/Frame 1  (49).jpg___save.png  \n",
            "  inflating: data/Frame 1  (5).jpg   \n",
            "  inflating: data/Frame 1  (5).jpg___fuse.png  \n",
            "  inflating: data/Frame 1  (5).jpg___save.png  \n",
            "  inflating: data/Frame 1  (50).jpg  \n",
            "  inflating: data/Frame 1  (50).jpg___fuse.png  \n",
            "  inflating: data/Frame 1  (50).jpg___save.png  \n",
            "  inflating: data/Frame 1  (51).jpg  \n",
            "  inflating: data/Frame 1  (51).jpg___fuse.png  \n",
            "  inflating: data/Frame 1  (51).jpg___save.png  \n",
            "  inflating: data/Frame 1  (52).jpg  \n",
            "  inflating: data/Frame 1  (52).jpg___fuse.png  \n",
            "  inflating: data/Frame 1  (52).jpg___save.png  \n",
            "  inflating: data/Frame 1  (53).jpg  \n",
            "  inflating: data/Frame 1  (53).jpg___fuse.png  \n",
            "  inflating: data/Frame 1  (53).jpg___save.png  \n",
            "  inflating: data/Frame 1  (54).jpg  \n",
            "  inflating: data/Frame 1  (54).jpg___fuse.png  \n",
            "  inflating: data/Frame 1  (54).jpg___save.png  \n",
            "  inflating: data/Frame 1  (55).jpg  \n",
            "  inflating: data/Frame 1  (55).jpg___fuse.png  \n",
            "  inflating: data/Frame 1  (55).jpg___save.png  \n",
            "  inflating: data/Frame 1  (56).jpg  \n",
            "  inflating: data/Frame 1  (56).jpg___fuse.png  \n",
            "  inflating: data/Frame 1  (56).jpg___save.png  \n",
            "  inflating: data/Frame 1  (57).jpg  \n",
            "  inflating: data/Frame 1  (57).jpg___fuse.png  \n",
            "  inflating: data/Frame 1  (57).jpg___save.png  \n",
            "  inflating: data/Frame 1  (58).jpg  \n",
            "  inflating: data/Frame 1  (58).jpg___fuse.png  \n",
            "  inflating: data/Frame 1  (58).jpg___save.png  \n",
            "  inflating: data/Frame 1  (59).jpg  \n",
            "  inflating: data/Frame 1  (59).jpg___fuse.png  \n",
            "  inflating: data/Frame 1  (59).jpg___save.png  \n",
            "  inflating: data/Frame 1  (6).jpg   \n",
            "  inflating: data/Frame 1  (6).jpg___fuse.png  \n",
            "  inflating: data/Frame 1  (6).jpg___save.png  \n",
            "  inflating: data/Frame 1  (60).jpg  \n",
            "  inflating: data/Frame 1  (60).jpg___fuse.png  \n",
            "  inflating: data/Frame 1  (60).jpg___save.png  \n",
            "  inflating: data/Frame 1  (61).jpg  \n",
            "  inflating: data/Frame 1  (61).jpg___fuse.png  \n",
            "  inflating: data/Frame 1  (61).jpg___save.png  \n",
            "  inflating: data/Frame 1  (62).jpg  \n",
            "  inflating: data/Frame 1  (62).jpg___fuse.png  \n",
            "  inflating: data/Frame 1  (62).jpg___save.png  \n",
            "  inflating: data/Frame 1  (63).jpg  \n",
            "  inflating: data/Frame 1  (63).jpg___fuse.png  \n",
            "  inflating: data/Frame 1  (63).jpg___save.png  \n",
            "  inflating: data/Frame 1  (64).jpg  \n",
            "  inflating: data/Frame 1  (64).jpg___fuse.png  \n",
            "  inflating: data/Frame 1  (64).jpg___save.png  \n",
            "  inflating: data/Frame 1  (65).jpg  \n",
            "  inflating: data/Frame 1  (65).jpg___fuse.png  \n",
            "  inflating: data/Frame 1  (65).jpg___save.png  \n",
            "  inflating: data/Frame 1  (66).jpg  \n",
            "  inflating: data/Frame 1  (66).jpg___fuse.png  \n",
            "  inflating: data/Frame 1  (66).jpg___save.png  \n",
            "  inflating: data/Frame 1  (67).jpg  \n",
            "  inflating: data/Frame 1  (67).jpg___fuse.png  \n",
            "  inflating: data/Frame 1  (67).jpg___save.png  \n",
            "  inflating: data/Frame 1  (68).jpg  \n",
            "  inflating: data/Frame 1  (68).jpg___fuse.png  \n",
            "  inflating: data/Frame 1  (68).jpg___save.png  \n",
            "  inflating: data/Frame 1  (69).jpg  \n",
            "  inflating: data/Frame 1  (69).jpg___fuse.png  \n",
            "  inflating: data/Frame 1  (69).jpg___save.png  \n",
            "  inflating: data/Frame 1  (7).jpg   \n",
            "  inflating: data/Frame 1  (7).jpg___fuse.png  \n",
            "  inflating: data/Frame 1  (7).jpg___save.png  \n",
            "  inflating: data/Frame 1  (70).jpg  \n",
            "  inflating: data/Frame 1  (70).jpg___fuse.png  \n",
            "  inflating: data/Frame 1  (70).jpg___save.png  \n",
            "  inflating: data/Frame 1  (71).jpg  \n",
            "  inflating: data/Frame 1  (71).jpg___fuse.png  \n",
            "  inflating: data/Frame 1  (71).jpg___save.png  \n",
            "  inflating: data/Frame 1  (72).jpg  \n",
            "  inflating: data/Frame 1  (72).jpg___fuse.png  \n",
            "  inflating: data/Frame 1  (72).jpg___save.png  \n",
            "  inflating: data/Frame 1  (73).jpg  \n",
            "  inflating: data/Frame 1  (73).jpg___fuse.png  \n",
            "  inflating: data/Frame 1  (73).jpg___save.png  \n",
            "  inflating: data/Frame 1  (74).jpg  \n",
            "  inflating: data/Frame 1  (74).jpg___fuse.png  \n",
            "  inflating: data/Frame 1  (74).jpg___save.png  \n",
            "  inflating: data/Frame 1  (75).jpg  \n",
            "  inflating: data/Frame 1  (75).jpg___fuse.png  \n",
            "  inflating: data/Frame 1  (75).jpg___save.png  \n",
            "  inflating: data/Frame 1  (76).jpg  \n",
            "  inflating: data/Frame 1  (76).jpg___fuse.png  \n",
            "  inflating: data/Frame 1  (76).jpg___save.png  \n",
            "  inflating: data/Frame 1  (77).jpg  \n",
            "  inflating: data/Frame 1  (77).jpg___fuse.png  \n",
            "  inflating: data/Frame 1  (77).jpg___save.png  \n",
            "  inflating: data/Frame 1  (78).jpg  \n",
            "  inflating: data/Frame 1  (78).jpg___fuse.png  \n",
            "  inflating: data/Frame 1  (78).jpg___save.png  \n",
            "  inflating: data/Frame 1  (79).jpg  \n",
            "  inflating: data/Frame 1  (79).jpg___fuse.png  \n",
            "  inflating: data/Frame 1  (79).jpg___save.png  \n",
            "  inflating: data/Frame 1  (8).jpg   \n",
            "  inflating: data/Frame 1  (8).jpg___fuse.png  \n",
            "  inflating: data/Frame 1  (8).jpg___save.png  \n",
            "  inflating: data/Frame 1  (80).jpg  \n",
            "  inflating: data/Frame 1  (80).jpg___fuse.png  \n",
            "  inflating: data/Frame 1  (80).jpg___save.png  \n",
            "  inflating: data/Frame 1  (81).jpg  \n",
            "  inflating: data/Frame 1  (81).jpg___fuse.png  \n",
            "  inflating: data/Frame 1  (81).jpg___save.png  \n",
            "  inflating: data/Frame 1  (82).jpg  \n",
            "  inflating: data/Frame 1  (82).jpg___fuse.png  \n",
            "  inflating: data/Frame 1  (82).jpg___save.png  \n",
            "  inflating: data/Frame 1  (83).jpg  \n",
            "  inflating: data/Frame 1  (83).jpg___fuse.png  \n",
            "  inflating: data/Frame 1  (83).jpg___save.png  \n",
            "  inflating: data/Frame 1  (84).jpg  \n",
            "  inflating: data/Frame 1  (84).jpg___fuse.png  \n",
            "  inflating: data/Frame 1  (84).jpg___save.png  \n",
            "  inflating: data/Frame 1  (85).jpg  \n",
            "  inflating: data/Frame 1  (85).jpg___fuse.png  \n",
            "  inflating: data/Frame 1  (85).jpg___save.png  \n",
            "  inflating: data/Frame 1  (86).jpg  \n",
            "  inflating: data/Frame 1  (86).jpg___fuse.png  \n",
            "  inflating: data/Frame 1  (86).jpg___save.png  \n",
            "  inflating: data/Frame 1  (87).jpg  \n",
            "  inflating: data/Frame 1  (87).jpg___fuse.png  \n",
            "  inflating: data/Frame 1  (87).jpg___save.png  \n",
            "  inflating: data/Frame 1  (88).jpg  \n",
            "  inflating: data/Frame 1  (88).jpg___fuse.png  \n",
            "  inflating: data/Frame 1  (88).jpg___save.png  \n",
            "  inflating: data/Frame 1  (89).jpg  \n",
            "  inflating: data/Frame 1  (89).jpg___fuse.png  \n",
            "  inflating: data/Frame 1  (89).jpg___save.png  \n",
            "  inflating: data/Frame 1  (9).jpg   \n",
            "  inflating: data/Frame 1  (9).jpg___fuse.png  \n",
            "  inflating: data/Frame 1  (9).jpg___save.png  \n",
            "  inflating: data/Frame 1  (90).jpg  \n",
            "  inflating: data/Frame 1  (90).jpg___fuse.png  \n",
            "  inflating: data/Frame 1  (90).jpg___save.png  \n",
            "  inflating: data/Frame 1  (91).jpg  \n",
            "  inflating: data/Frame 1  (91).jpg___fuse.png  \n",
            "  inflating: data/Frame 1  (91).jpg___save.png  \n",
            "  inflating: data/Frame 1  (92).jpg  \n",
            "  inflating: data/Frame 1  (92).jpg___fuse.png  \n",
            "  inflating: data/Frame 1  (92).jpg___save.png  \n",
            "  inflating: data/Frame 1  (93).jpg  \n",
            "  inflating: data/Frame 1  (93).jpg___fuse.png  \n",
            "  inflating: data/Frame 1  (93).jpg___save.png  \n",
            "  inflating: data/Frame 1  (94).jpg  \n",
            "  inflating: data/Frame 1  (94).jpg___fuse.png  \n",
            "  inflating: data/Frame 1  (94).jpg___save.png  \n",
            "  inflating: data/Frame 1  (95).jpg  \n",
            "  inflating: data/Frame 1  (95).jpg___fuse.png  \n",
            "  inflating: data/Frame 1  (95).jpg___save.png  \n",
            "  inflating: data/Frame 1  (96).jpg  \n",
            "  inflating: data/Frame 1  (96).jpg___fuse.png  \n",
            "  inflating: data/Frame 1  (96).jpg___save.png  \n",
            "  inflating: data/Frame 1  (97).jpg  \n",
            "  inflating: data/Frame 1  (97).jpg___fuse.png  \n",
            "  inflating: data/Frame 1  (97).jpg___save.png  \n",
            "  inflating: data/Frame 1  (98).jpg  \n",
            "  inflating: data/Frame 1  (98).jpg___fuse.png  \n",
            "  inflating: data/Frame 1  (98).jpg___save.png  \n",
            "  inflating: data/Frame 1  (99).jpg  \n",
            "  inflating: data/Frame 1  (99).jpg___fuse.png  \n",
            "  inflating: data/Frame 1  (99).jpg___save.png  \n",
            "  inflating: data/www.acmeai.tech ODataset 3 - Football Semantic Segmentation.pdf  \n"
          ]
        }
      ]
    },
    {
      "cell_type": "code",
      "source": [
        "def create_folders(path):\n",
        "  try:\n",
        "    os.makedirs(path)\n",
        "  except FileExistsError:\n",
        "    pass"
      ],
      "metadata": {
        "id": "anPvg8yuU-C1"
      },
      "execution_count": 5,
      "outputs": []
    },
    {
      "cell_type": "code",
      "source": [
        "create_folders('train')\n",
        "create_folders('val')\n",
        "create_folders('test')\n",
        "\n",
        "create_folders('train_seg')\n",
        "create_folders('val_seg')\n",
        "create_folders('test_seg')"
      ],
      "metadata": {
        "id": "GAxUidIeVAvH"
      },
      "execution_count": 6,
      "outputs": []
    },
    {
      "cell_type": "code",
      "source": [
        "#Generate 100 random numbers between 1 and 100\n",
        "randomlist=random.sample(list(range(1, 101)), 100)\n",
        "print(randomlist)"
      ],
      "metadata": {
        "colab": {
          "base_uri": "https://localhost:8080/"
        },
        "id": "Um87yJ9ZVC19",
        "outputId": "b1ddfa27-1f10-47b0-ca02-0a76cc5bbfbe"
      },
      "execution_count": 7,
      "outputs": [
        {
          "output_type": "stream",
          "name": "stdout",
          "text": [
            "[5, 62, 32, 54, 36, 23, 24, 13, 68, 78, 7, 80, 51, 90, 33, 95, 35, 17, 52, 50, 92, 55, 25, 58, 99, 34, 87, 44, 12, 18, 93, 38, 86, 76, 41, 69, 43, 72, 98, 16, 89, 46, 83, 59, 57, 27, 66, 42, 45, 77, 47, 70, 6, 15, 63, 9, 4, 48, 64, 75, 28, 56, 29, 60, 96, 85, 49, 53, 8, 84, 73, 97, 91, 39, 22, 19, 74, 14, 21, 30, 88, 65, 81, 79, 37, 40, 61, 3, 1, 67, 31, 100, 94, 82, 71, 10, 20, 26, 2, 11]\n"
          ]
        }
      ]
    },
    {
      "cell_type": "code",
      "source": [
        "def copy_images(dstn, dstn_seg, r1, r2):\n",
        "  for i in range(r1, r2):\n",
        "    this_image = 'data/Frame 1  ('+str(randomlist[i])+').jpg'\n",
        "    copy(this_image, dstn)\n",
        "    this_image = 'data/Frame 1  ('+str(randomlist[i])+').jpg___fuse.png'\n",
        "    copy(this_image, dstn_seg)"
      ],
      "metadata": {
        "id": "mFgiWAdmVMtJ"
      },
      "execution_count": 8,
      "outputs": []
    },
    {
      "cell_type": "code",
      "source": [
        "copy_images('train', 'train_seg', 0, 90)\n",
        "copy_images('val', 'val_seg', 90, 95)\n",
        "copy_images('test', 'test_seg', 95, 100)"
      ],
      "metadata": {
        "id": "ZnzC1JG1VNpB"
      },
      "execution_count": 9,
      "outputs": []
    },
    {
      "cell_type": "code",
      "source": [
        "size = 256\n",
        "def load_image(dir, path, SIZE=size):\n",
        "    image = load_img(os.path.join(dir, path))\n",
        "    image = tf_image.resize(image, (SIZE, SIZE))\n",
        "    image = img_to_array(image)\n",
        "    image = tf.cast(image, tf.float32)\n",
        "    image = image/255.\n",
        "    return image\n",
        "\n",
        "def load_data(dir, dir_seg, image_paths, label_paths, SIZE=size):\n",
        "    images, label_maps = np.zeros(shape=(len(image_paths), SIZE, SIZE, 3)), np.zeros(shape=(len(label_paths), SIZE, SIZE, 3))\n",
        "    for i, (image_path, label_path) in enumerate(zip(image_paths, label_paths)):\n",
        "        image, label_map = load_image(dir, image_path, SIZE=SIZE), load_image(dir_seg, label_path, SIZE=SIZE)\n",
        "        images[i], label_maps[i] = image, label_map\n",
        "    return images, label_maps"
      ],
      "metadata": {
        "id": "9_0PsG3VVQMg"
      },
      "execution_count": 10,
      "outputs": []
    },
    {
      "cell_type": "code",
      "source": [
        "train_list = os.listdir('train')\n",
        "train_seg_list = os.listdir('train_seg')\n",
        "train_img, train_seg = load_data('train', 'train_seg', train_list, train_seg_list)\n",
        "\n",
        "val_list = os.listdir('val')\n",
        "val_seg_list = os.listdir('val_seg')\n",
        "val_img, val_seg = load_data('val', 'val_seg', val_list, val_seg_list)\n",
        "\n",
        "test_list = os.listdir('test')\n",
        "test_seg_list = os.listdir('test_seg')\n",
        "test_img, test_seg = load_data('test', 'test_seg', test_list, test_seg_list)"
      ],
      "metadata": {
        "id": "bqN0jbKeVZzZ"
      },
      "execution_count": 11,
      "outputs": []
    },
    {
      "cell_type": "code",
      "source": [
        "for i, s in zip(train_img, train_seg):\n",
        "  np.append(train_img,tf_image.flip_left_right(i))\n",
        "  np.append(train_seg,tf_image.flip_left_right(s))\n",
        "  np.append(train_img,tf_image.flip_up_down(i))\n",
        "  np.append(train_seg,tf_image.flip_up_down(s))"
      ],
      "metadata": {
        "id": "TrArxc3NVeSn"
      },
      "execution_count": 12,
      "outputs": []
    },
    {
      "cell_type": "code",
      "source": [
        "def double_conv_block(x, n_filters):\n",
        "   # Conv2D then ReLU activation\n",
        "   x = layers.Conv2D(n_filters, 3, padding = \"same\", activation = \"relu\", kernel_initializer = \"he_normal\")(x)\n",
        "   # Conv2D then ReLU activation\n",
        "   x = layers.Conv2D(n_filters, 3, padding = \"same\", activation = \"relu\", kernel_initializer = \"he_normal\")(x)\n",
        "   return x"
      ],
      "metadata": {
        "id": "zy-6tTdiVgqv"
      },
      "execution_count": 13,
      "outputs": []
    },
    {
      "cell_type": "code",
      "source": [
        "def downsample_block(x, n_filters):\n",
        "   f = double_conv_block(x, n_filters)\n",
        "   p = layers.MaxPool2D(2)(f)\n",
        "   return f, p"
      ],
      "metadata": {
        "id": "H8O-wY6HV7JO"
      },
      "execution_count": 14,
      "outputs": []
    },
    {
      "cell_type": "code",
      "source": [
        "def upsample_block(x, conv_features, n_filters):\n",
        "   # upsample\n",
        "   x = layers.Conv2DTranspose(n_filters, 3, 2, padding=\"same\")(x)\n",
        "   # concatenate\n",
        "   x = layers.concatenate([x, conv_features])\n",
        "   # dropout\n",
        "   # Conv2D twice with ReLU activation\n",
        "   x = double_conv_block(x, n_filters)\n",
        "   return x"
      ],
      "metadata": {
        "id": "PiYKE42xV9zC"
      },
      "execution_count": 15,
      "outputs": []
    },
    {
      "cell_type": "code",
      "source": [
        "def unet_model():\n",
        "  inputs = layers.Input(shape=(256,256,3))\n",
        "\n",
        "   # encoder: contracting path - downsample\n",
        "   # 1 - downsample\n",
        "  f1, p1 = downsample_block(inputs, 64)\n",
        "   # 2 - downsample\n",
        "  f2, p2 = downsample_block(p1, 128)\n",
        "   # 3 - downsample\n",
        "  f3, p3 = downsample_block(p2, 256)\n",
        "   # 4 - downsample\n",
        "  f4, p4 = downsample_block(p3, 512)\n",
        "\n",
        "   # 5 - bottleneck\n",
        "  bottleneck = double_conv_block(p4, 1024)\n",
        "\n",
        "   # decoder: expanding path - upsample\n",
        "   # 6 - upsample\n",
        "  u6 = upsample_block(bottleneck, f4, 512)\n",
        "   # 7 - upsample\n",
        "  u7 = upsample_block(u6, f3, 256)\n",
        "   # 8 - upsample\n",
        "  u8 = upsample_block(u7, f2, 128)\n",
        "   # 9 - upsample\n",
        "  u9 = upsample_block(u8, f1, 64)\n",
        "\n",
        "   # outputs\n",
        "  outputs = layers.Conv2D(3, kernel_size=3, padding='same', activation='sigmoid')(u9)\n",
        "\n",
        "   # unet model with Keras Functional API\n",
        "  unet_model = tf.keras.Model(inputs, outputs, name=\"U-Net\")\n",
        "\n",
        "  return unet_model"
      ],
      "metadata": {
        "id": "HTQ0H9GbWBr-"
      },
      "execution_count": 16,
      "outputs": []
    },
    {
      "cell_type": "code",
      "source": [
        "unet_model = unet_model()\n",
        "unet_model.summary()"
      ],
      "metadata": {
        "colab": {
          "base_uri": "https://localhost:8080/"
        },
        "id": "oJuZcmGPWFO8",
        "outputId": "f8a9377c-5bec-4220-ae9b-c83519eaa211"
      },
      "execution_count": 17,
      "outputs": [
        {
          "output_type": "stream",
          "name": "stdout",
          "text": [
            "Model: \"U-Net\"\n",
            "__________________________________________________________________________________________________\n",
            " Layer (type)                Output Shape                 Param #   Connected to                  \n",
            "==================================================================================================\n",
            " input_1 (InputLayer)        [(None, 256, 256, 3)]        0         []                            \n",
            "                                                                                                  \n",
            " conv2d (Conv2D)             (None, 256, 256, 64)         1792      ['input_1[0][0]']             \n",
            "                                                                                                  \n",
            " conv2d_1 (Conv2D)           (None, 256, 256, 64)         36928     ['conv2d[0][0]']              \n",
            "                                                                                                  \n",
            " max_pooling2d (MaxPooling2  (None, 128, 128, 64)         0         ['conv2d_1[0][0]']            \n",
            " D)                                                                                               \n",
            "                                                                                                  \n",
            " conv2d_2 (Conv2D)           (None, 128, 128, 128)        73856     ['max_pooling2d[0][0]']       \n",
            "                                                                                                  \n",
            " conv2d_3 (Conv2D)           (None, 128, 128, 128)        147584    ['conv2d_2[0][0]']            \n",
            "                                                                                                  \n",
            " max_pooling2d_1 (MaxPoolin  (None, 64, 64, 128)          0         ['conv2d_3[0][0]']            \n",
            " g2D)                                                                                             \n",
            "                                                                                                  \n",
            " conv2d_4 (Conv2D)           (None, 64, 64, 256)          295168    ['max_pooling2d_1[0][0]']     \n",
            "                                                                                                  \n",
            " conv2d_5 (Conv2D)           (None, 64, 64, 256)          590080    ['conv2d_4[0][0]']            \n",
            "                                                                                                  \n",
            " max_pooling2d_2 (MaxPoolin  (None, 32, 32, 256)          0         ['conv2d_5[0][0]']            \n",
            " g2D)                                                                                             \n",
            "                                                                                                  \n",
            " conv2d_6 (Conv2D)           (None, 32, 32, 512)          1180160   ['max_pooling2d_2[0][0]']     \n",
            "                                                                                                  \n",
            " conv2d_7 (Conv2D)           (None, 32, 32, 512)          2359808   ['conv2d_6[0][0]']            \n",
            "                                                                                                  \n",
            " max_pooling2d_3 (MaxPoolin  (None, 16, 16, 512)          0         ['conv2d_7[0][0]']            \n",
            " g2D)                                                                                             \n",
            "                                                                                                  \n",
            " conv2d_8 (Conv2D)           (None, 16, 16, 1024)         4719616   ['max_pooling2d_3[0][0]']     \n",
            "                                                                                                  \n",
            " conv2d_9 (Conv2D)           (None, 16, 16, 1024)         9438208   ['conv2d_8[0][0]']            \n",
            "                                                                                                  \n",
            " conv2d_transpose (Conv2DTr  (None, 32, 32, 512)          4719104   ['conv2d_9[0][0]']            \n",
            " anspose)                                                                                         \n",
            "                                                                                                  \n",
            " concatenate (Concatenate)   (None, 32, 32, 1024)         0         ['conv2d_transpose[0][0]',    \n",
            "                                                                     'conv2d_7[0][0]']            \n",
            "                                                                                                  \n",
            " conv2d_10 (Conv2D)          (None, 32, 32, 512)          4719104   ['concatenate[0][0]']         \n",
            "                                                                                                  \n",
            " conv2d_11 (Conv2D)          (None, 32, 32, 512)          2359808   ['conv2d_10[0][0]']           \n",
            "                                                                                                  \n",
            " conv2d_transpose_1 (Conv2D  (None, 64, 64, 256)          1179904   ['conv2d_11[0][0]']           \n",
            " Transpose)                                                                                       \n",
            "                                                                                                  \n",
            " concatenate_1 (Concatenate  (None, 64, 64, 512)          0         ['conv2d_transpose_1[0][0]',  \n",
            " )                                                                   'conv2d_5[0][0]']            \n",
            "                                                                                                  \n",
            " conv2d_12 (Conv2D)          (None, 64, 64, 256)          1179904   ['concatenate_1[0][0]']       \n",
            "                                                                                                  \n",
            " conv2d_13 (Conv2D)          (None, 64, 64, 256)          590080    ['conv2d_12[0][0]']           \n",
            "                                                                                                  \n",
            " conv2d_transpose_2 (Conv2D  (None, 128, 128, 128)        295040    ['conv2d_13[0][0]']           \n",
            " Transpose)                                                                                       \n",
            "                                                                                                  \n",
            " concatenate_2 (Concatenate  (None, 128, 128, 256)        0         ['conv2d_transpose_2[0][0]',  \n",
            " )                                                                   'conv2d_3[0][0]']            \n",
            "                                                                                                  \n",
            " conv2d_14 (Conv2D)          (None, 128, 128, 128)        295040    ['concatenate_2[0][0]']       \n",
            "                                                                                                  \n",
            " conv2d_15 (Conv2D)          (None, 128, 128, 128)        147584    ['conv2d_14[0][0]']           \n",
            "                                                                                                  \n",
            " conv2d_transpose_3 (Conv2D  (None, 256, 256, 64)         73792     ['conv2d_15[0][0]']           \n",
            " Transpose)                                                                                       \n",
            "                                                                                                  \n",
            " concatenate_3 (Concatenate  (None, 256, 256, 128)        0         ['conv2d_transpose_3[0][0]',  \n",
            " )                                                                   'conv2d_1[0][0]']            \n",
            "                                                                                                  \n",
            " conv2d_16 (Conv2D)          (None, 256, 256, 64)         73792     ['concatenate_3[0][0]']       \n",
            "                                                                                                  \n",
            " conv2d_17 (Conv2D)          (None, 256, 256, 64)         36928     ['conv2d_16[0][0]']           \n",
            "                                                                                                  \n",
            " conv2d_18 (Conv2D)          (None, 256, 256, 3)          1731      ['conv2d_17[0][0]']           \n",
            "                                                                                                  \n",
            "==================================================================================================\n",
            "Total params: 34515011 (131.66 MB)\n",
            "Trainable params: 34515011 (131.66 MB)\n",
            "Non-trainable params: 0 (0.00 Byte)\n",
            "__________________________________________________________________________________________________\n"
          ]
        }
      ]
    },
    {
      "cell_type": "code",
      "source": [
        "lr_schedule = schedules.ExponentialDecay(initial_learning_rate=2e-5,\n",
        "                                         decay_steps=10000,\n",
        "                                         decay_rate=0.9,\n",
        "                                         staircase=True)"
      ],
      "metadata": {
        "id": "ZSZcg0YrWHnh"
      },
      "execution_count": 18,
      "outputs": []
    },
    {
      "cell_type": "code",
      "source": [
        "unet_model.compile(loss='binary_crossentropy',optimizer=RMSprop(learning_rate=lr_schedule), metrics=['accuracy'])\n",
        "#unet_model.compile(loss='binary_crossentropy',optimizer=Adam(), metrics=['accuracy'])"
      ],
      "metadata": {
        "id": "psMaYKrJWLPY"
      },
      "execution_count": 19,
      "outputs": []
    },
    {
      "cell_type": "code",
      "source": [
        "epochs = 25\n",
        "history = unet_model.fit(train_img, train_seg,\n",
        "                         epochs=epochs,\n",
        "                         verbose=1,\n",
        "                         validation_data=(val_img, val_seg))"
      ],
      "metadata": {
        "colab": {
          "base_uri": "https://localhost:8080/"
        },
        "id": "qK2UvPIQWviq",
        "outputId": "d5e6559f-6213-4d2f-c7be-cb83da5957d2"
      },
      "execution_count": 20,
      "outputs": [
        {
          "output_type": "stream",
          "name": "stdout",
          "text": [
            "Epoch 1/25\n",
            "3/3 [==============================] - 151s 36s/step - loss: 0.7185 - accuracy: 0.5313 - val_loss: 0.6993 - val_accuracy: 0.4952\n",
            "Epoch 2/25\n",
            "3/3 [==============================] - 5s 2s/step - loss: 0.7038 - accuracy: 0.5391 - val_loss: 0.6952 - val_accuracy: 0.4998\n",
            "Epoch 3/25\n",
            "3/3 [==============================] - 5s 2s/step - loss: 0.6984 - accuracy: 0.5449 - val_loss: 0.6933 - val_accuracy: 0.5036\n",
            "Epoch 4/25\n",
            "3/3 [==============================] - 5s 2s/step - loss: 0.6955 - accuracy: 0.5484 - val_loss: 0.6924 - val_accuracy: 0.5028\n",
            "Epoch 5/25\n",
            "3/3 [==============================] - 5s 2s/step - loss: 0.6937 - accuracy: 0.5472 - val_loss: 0.6920 - val_accuracy: 0.4989\n",
            "Epoch 6/25\n",
            "3/3 [==============================] - 5s 2s/step - loss: 0.6927 - accuracy: 0.5409 - val_loss: 0.6919 - val_accuracy: 0.4921\n",
            "Epoch 7/25\n",
            "3/3 [==============================] - 5s 2s/step - loss: 0.6920 - accuracy: 0.5301 - val_loss: 0.6918 - val_accuracy: 0.4843\n",
            "Epoch 8/25\n",
            "3/3 [==============================] - 5s 2s/step - loss: 0.6916 - accuracy: 0.5154 - val_loss: 0.6916 - val_accuracy: 0.4816\n",
            "Epoch 9/25\n",
            "3/3 [==============================] - 5s 2s/step - loss: 0.6913 - accuracy: 0.5121 - val_loss: 0.6913 - val_accuracy: 0.4802\n",
            "Epoch 10/25\n",
            "3/3 [==============================] - 5s 2s/step - loss: 0.6910 - accuracy: 0.5105 - val_loss: 0.6911 - val_accuracy: 0.4796\n",
            "Epoch 11/25\n",
            "3/3 [==============================] - 5s 2s/step - loss: 0.6908 - accuracy: 0.5164 - val_loss: 0.6910 - val_accuracy: 0.4771\n",
            "Epoch 12/25\n",
            "3/3 [==============================] - 5s 2s/step - loss: 0.6906 - accuracy: 0.5102 - val_loss: 0.6907 - val_accuracy: 0.4777\n",
            "Epoch 13/25\n",
            "3/3 [==============================] - 5s 2s/step - loss: 0.6905 - accuracy: 0.5158 - val_loss: 0.6906 - val_accuracy: 0.4748\n",
            "Epoch 14/25\n",
            "3/3 [==============================] - 5s 2s/step - loss: 0.6902 - accuracy: 0.5031 - val_loss: 0.6900 - val_accuracy: 0.4839\n",
            "Epoch 15/25\n",
            "3/3 [==============================] - 5s 2s/step - loss: 0.6900 - accuracy: 0.5123 - val_loss: 0.6894 - val_accuracy: 0.4922\n",
            "Epoch 16/25\n",
            "3/3 [==============================] - 5s 2s/step - loss: 0.6898 - accuracy: 0.5365 - val_loss: 0.6894 - val_accuracy: 0.4872\n",
            "Epoch 17/25\n",
            "3/3 [==============================] - 5s 2s/step - loss: 0.6897 - accuracy: 0.5284 - val_loss: 0.6891 - val_accuracy: 0.4899\n",
            "Epoch 18/25\n",
            "3/3 [==============================] - 5s 2s/step - loss: 0.6895 - accuracy: 0.5171 - val_loss: 0.6884 - val_accuracy: 0.5013\n",
            "Epoch 19/25\n",
            "3/3 [==============================] - 5s 2s/step - loss: 0.6894 - accuracy: 0.5398 - val_loss: 0.6883 - val_accuracy: 0.5005\n",
            "Epoch 20/25\n",
            "3/3 [==============================] - 5s 2s/step - loss: 0.6892 - accuracy: 0.5406 - val_loss: 0.6881 - val_accuracy: 0.5015\n",
            "Epoch 21/25\n",
            "3/3 [==============================] - 5s 2s/step - loss: 0.6891 - accuracy: 0.5407 - val_loss: 0.6877 - val_accuracy: 0.5047\n",
            "Epoch 22/25\n",
            "3/3 [==============================] - 5s 2s/step - loss: 0.6889 - accuracy: 0.5509 - val_loss: 0.6877 - val_accuracy: 0.5012\n",
            "Epoch 23/25\n",
            "3/3 [==============================] - 5s 2s/step - loss: 0.6889 - accuracy: 0.5429 - val_loss: 0.6876 - val_accuracy: 0.5007\n",
            "Epoch 24/25\n",
            "3/3 [==============================] - 5s 2s/step - loss: 0.6887 - accuracy: 0.5473 - val_loss: 0.6874 - val_accuracy: 0.5016\n",
            "Epoch 25/25\n",
            "3/3 [==============================] - 5s 2s/step - loss: 0.6887 - accuracy: 0.5441 - val_loss: 0.6869 - val_accuracy: 0.5086\n"
          ]
        }
      ]
    },
    {
      "cell_type": "code",
      "source": [
        "def plot_learning_curves(history, model_name):\n",
        "  fig, ax = plt.subplots(1, 2, figsize=(16, 8))\n",
        "  ax[0].plot(history.history['accuracy'])\n",
        "  ax[0].plot(history.history['val_accuracy'])\n",
        "  ax[0].set_title(model_name+' accuracy')\n",
        "  ax[0].set_ylabel('accuracy')\n",
        "  ax[0].set_xlabel('epoch')\n",
        "  ax[0].legend(['train', 'validation'], loc='upper right')\n",
        "\n",
        "  ax[1].plot(history.history['loss'])\n",
        "  ax[1].plot(history.history['val_loss'])\n",
        "  ax[1].set_title(model_name+' loss')\n",
        "  ax[1].set_ylabel('loss')\n",
        "  ax[1].set_xlabel('epoch')\n",
        "  ax[1].legend(['train', 'validation'], loc='upper right')\n",
        "\n",
        "  plt.show()"
      ],
      "metadata": {
        "id": "fwNjxtxIW0dr"
      },
      "execution_count": 21,
      "outputs": []
    },
    {
      "cell_type": "code",
      "source": [
        "plot_learning_curves(history, 'UNet Model')"
      ],
      "metadata": {
        "colab": {
          "base_uri": "https://localhost:8080/",
          "height": 718
        },
        "id": "ll93aBm4W3kA",
        "outputId": "623e8540-3c9d-4ca3-d593-f737c835a2a5"
      },
      "execution_count": 22,
      "outputs": [
        {
          "output_type": "display_data",
          "data": {
            "text/plain": [
              "<Figure size 1600x800 with 2 Axes>"
            ],
            "image/png": "[encoded data removed]"
          },
          "metadata": {}
        }
      ]
    },
    {
      "cell_type": "code",
      "source": [
        "test_pred = unet_model.predict(test_img)"
      ],
      "metadata": {
        "colab": {
          "base_uri": "https://localhost:8080/"
        },
        "id": "BZXVR7lqW5i_",
        "outputId": "975bbc5e-a240-4065-87ce-83bb1b74d4ac"
      },
      "execution_count": 23,
      "outputs": [
        {
          "output_type": "stream",
          "name": "stdout",
          "text": [
            "1/1 [==============================] - 1s 662ms/step\n"
          ]
        }
      ]
    },
    {
      "cell_type": "code",
      "source": [
        "fig = plt.figure(figsize=(10, 7))\n",
        "fig.add_subplot(5, 3, 1)\n",
        "plt.imshow(test_img[i])\n",
        "plt.axis('off')\n",
        "plt.title('Image')\n",
        "fig.add_subplot(5, 3, 2)\n",
        "plt.imshow(test_seg[i])\n",
        "plt.axis('off')\n",
        "plt.title('Actual Mask')\n",
        "fig.add_subplot(5, 3, 3)\n",
        "plt.imshow(test_pred[i])\n",
        "plt.axis('off')\n",
        "plt.title('Prediction')"
      ],
      "metadata": {
        "colab": {
          "base_uri": "https://localhost:8080/",
          "height": 169
        },
        "id": "Pl1WOLG_W8CQ",
        "outputId": "20ec69ef-0886-4f13-b544-7aedac859872"
      },
      "execution_count": 26,
      "outputs": [
        {
          "output_type": "execute_result",
          "data": {
            "text/plain": [
              "Text(0.5, 1.0, 'Prediction')"
            ]
          },
          "metadata": {},
          "execution_count": 26
        },
        {
          "output_type": "display_data",
          "data": {
            "text/plain": [
              "<Figure size 1000x700 with 3 Axes>"
            ],
            "image/png": "[encoded data removed]"
          },
          "metadata": {}
        }
      ]
    },
    {
      "cell_type": "markdown",
      "source": [
        "Resources:\n",
        "\n",
        "https://pyimagesearch.com/2022/02/21/u-net-image-segmentation-in-keras/\n",
        "\n",
        "https://www.kaggle.com/code/utkarshsaxenadn/football-player-segmentation-unet"
      ],
      "metadata": {
        "id": "5tobv3iQZ77M"
      }
    }
  ]
}